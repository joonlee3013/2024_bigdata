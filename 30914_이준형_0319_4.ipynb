{
 "cells": [
  {
   "cell_type": "markdown",
   "id": "1e9da3fd",
   "metadata": {},
   "source": [
    "## 30914_이준형_0319_4"
   ]
  },
  {
   "cell_type": "code",
   "execution_count": 6,
   "id": "c40e15ff",
   "metadata": {},
   "outputs": [
    {
     "name": "stdout",
     "output_type": "stream",
     "text": [
      "1부터 n까지 정수의 합을 구합니다.\n",
      "n값을 입력하세요.:10000\n",
      "1부터 10000까지 정수의 합은 50005000입니다.\n"
     ]
    }
   ],
   "source": [
    "print('1부터 n까지 정수의 합을 구합니다.')\n",
    "n = int(input('n값을 입력하세요.:'))\n",
    "\n",
    "#변수를 만들고 초기화\n",
    "sum = 0\n",
    "i = 1\n",
    "      \n",
    "while i <= n: # i가 n보다 작거나 같은 동안 반복\n",
    "      sum += i\n",
    "      i += 1\n",
    "print(f'1부터 {n}까지 정수의 합은 {sum}입니다.')\n",
    "      "
   ]
  },
  {
   "cell_type": "code",
   "execution_count": 10,
   "id": "9ad66dc5",
   "metadata": {},
   "outputs": [
    {
     "name": "stdout",
     "output_type": "stream",
     "text": [
      "1부터 n까지 정수의 합을 구합니다.\n",
      "n값을 입력하세요.:100\n"
     ]
    }
   ],
   "source": [
    "#for문으로 만들어 봅시다.\n",
    "print('1부터 n까지 정수의 합을 구합니다.')\n",
    "n = int(input('n값을 입력하세요.:'))\n",
    "\n",
    "#변수를 만들고 초기화\n",
    "sum = 0\n",
    "# for문을 이용한 반복\n",
    "for i in range(1, n+1):\n",
    "    sum += i\n"
   ]
  },
  {
   "cell_type": "code",
   "execution_count": 11,
   "id": "6879cc5a",
   "metadata": {},
   "outputs": [
    {
     "name": "stdout",
     "output_type": "stream",
     "text": [
      "a부터 b까지 정수의 합을 구합니다.\n",
      "a값을 입력하세요.: 8\n",
      "b값을 입력하세요.: 3\n",
      "3부터 8까지 정수의 합은 5050입니다.\n"
     ]
    }
   ],
   "source": [
    "print('a부터 b까지 정수의 합을 구합니다.')\n",
    "a = int(input('a값을 입력하세요.: '))\n",
    "b = int(input('b값을 입력하세요.: '))\n",
    "\n",
    "if a > b :\n",
    "    a, b = b, a #a,b를 오름차순으로 정렬\n",
    "    \n",
    "#변수를 만들고 초기화\n",
    "sum = 0\n",
    "\n",
    "# for문을 이용한 반복\n",
    "for i in range(1, n+1):\n",
    "    sum += i\n",
    "\n",
    "print(f'{a}부터 {b}까지 정수의 합은 {sum}입니다.')"
   ]
  },
  {
   "cell_type": "code",
   "execution_count": 15,
   "id": "690a4b67",
   "metadata": {},
   "outputs": [
    {
     "name": "stdout",
     "output_type": "stream",
     "text": [
      "1부터 n까지 정수의 합을 구합니다.\n",
      "n값을 입력하세요.:1000\n",
      "3 + 4 + 5 + 6 + 7 + 8 = 33\n"
     ]
    }
   ],
   "source": [
    "# a부터 b까지 정수의 합을 구하는 과정과 최종값을 출력하는 프로그램\n",
    "print('1부터 n까지 정수의 합을 구합니다.')\n",
    "n = int(input('n값을 입력하세요.:'))\n",
    "\n",
    "#변수를 만들고 초기화\n",
    "sum = 0\n",
    "\n",
    "for i in range(a, b+1):\n",
    "    if i < b: # i가 b보다 작으면 합을 구하는 과정을 출력\n",
    "        print(f'{i} + ',end='')\n",
    "    else:\n",
    "            print(f'{i} = ',end='')\n",
    "    sum += i\n",
    "            \n",
    "print(sum)"
   ]
  },
  {
   "cell_type": "code",
   "execution_count": null,
   "id": "db6a91a8",
   "metadata": {},
   "outputs": [],
   "source": []
  }
 ],
 "metadata": {
  "kernelspec": {
   "display_name": "Python 3 (ipykernel)",
   "language": "python",
   "name": "python3"
  },
  "language_info": {
   "codemirror_mode": {
    "name": "ipython",
    "version": 3
   },
   "file_extension": ".py",
   "mimetype": "text/x-python",
   "name": "python",
   "nbconvert_exporter": "python",
   "pygments_lexer": "ipython3",
   "version": "3.9.7"
  }
 },
 "nbformat": 4,
 "nbformat_minor": 5
}
