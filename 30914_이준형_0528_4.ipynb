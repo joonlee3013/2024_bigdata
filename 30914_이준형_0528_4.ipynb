{
 "cells": [
  {
   "cell_type": "markdown",
   "id": "dec09277",
   "metadata": {},
   "source": [
    "## 30914_이준형_0528_4"
   ]
  },
  {
   "cell_type": "markdown",
   "id": "f8df7f20",
   "metadata": {},
   "source": [
    "슬기는 체육 선생님과 공던지기로 아이스크림 내기를 하게 됐다.\n",
    "\n",
    "공을 던져서 50m ~ 60m 사이에 공이 들어가면 슬기가 이기게 되고, 그 외에 공이 떨어지면 체육선생님이 이기게 룰을 정했다.\n",
    "\n",
    "슬기가 던진 공의 위치가 입력으로 주어지면 50이상 60이하이면 \"win\"을 출력하고, 그 외에는 \"lose\"를 출력하시오."
   ]
  },
  {
   "cell_type": "code",
   "execution_count": 1,
   "id": "7427bf62",
   "metadata": {},
   "outputs": [
    {
     "name": "stdout",
     "output_type": "stream",
     "text": [
      "2\n",
      "lose\n"
     ]
    }
   ],
   "source": [
    "n = float(input())\n",
    "\n",
    "if n >= 50 and n <= 60:\n",
    "    print('win')\n",
    "else:\n",
    "    print('lose')"
   ]
  },
  {
   "cell_type": "markdown",
   "id": "8ece5415",
   "metadata": {},
   "source": [
    "슬기는 지난 번 공던지기에서 져서 아이스크림을 사게되었다.\n",
    "\n",
    "얼마 뒤 열받은 슬기는 체육 선생님에게 다시 한번 공던지기를 하여 아이스크림 내기를 하자고 제안하였다.\n",
    "\n",
    "그런데 이번에는 불리한 슬기가 다음 룰을 제안하였다.\n",
    "\n",
    "1. 공이 30m~40m나 60m~70m 에 들어오면 슬기가 이김.\n",
    "\n",
    "2. 그 외의 구간에 떨어지면 체육선생님이 이김.\n",
    "\n",
    "슬기가 던진 공의 위치가 입력으로 주어지면 슬기가 이기는 구간에는 \"win\"을 출력하고, 그 외에는 \"lose\"를 출력하시오."
   ]
  },
  {
   "cell_type": "code",
   "execution_count": 2,
   "id": "99fb2fdf",
   "metadata": {},
   "outputs": [
    {
     "name": "stdout",
     "output_type": "stream",
     "text": [
      "4\n",
      "lose\n"
     ]
    }
   ],
   "source": [
    "n = int(input())\n",
    "\n",
    "if 30 <= n <= 40:\n",
    "    print('win')\n",
    "elif 60 <= n <= 70:\n",
    "    print('win')\n",
    "else:\n",
    "    print('lose')"
   ]
  },
  {
   "cell_type": "markdown",
   "id": "1ec24e5d",
   "metadata": {},
   "source": [
    "슬기는 지난 번에도 공던지기에 져서 아이스크림을 사게되었다.\n",
    "\n",
    "슬기는 이미 돈이 다 떨어져서 현량이에게 돈을 빌린 상태이다.\n",
    "\n",
    "이번에는 슬기가 또 다른 조건을 내걸고 체육 선생님에게 도전하게 되었다. \n",
    "\n",
    "1. 공의 위치가 50m~70m이면 슬기가 이김.\n",
    "\n",
    "또는\n",
    "\n",
    "2. 공의 위치가 6의 배수이면 슬기가 이김. \n",
    "\n",
    "슬기가 던진 공의 위치가 입력으로 주어지면 슬기가 이기는 구간에는 \"win\"을 출력하고, 그 외에는 \"lose\"를 출력하시오."
   ]
  },
  {
   "cell_type": "code",
   "execution_count": 3,
   "id": "f5352e56",
   "metadata": {},
   "outputs": [
    {
     "name": "stdout",
     "output_type": "stream",
     "text": [
      "3\n",
      "lose\n"
     ]
    }
   ],
   "source": [
    "n = int(input())\n",
    "\n",
    "if 50 <= n <= 70:\n",
    "    print('win')\n",
    "elif n % 6 == 0:\n",
    "    print('win')\n",
    "else:\n",
    "    print('lose')"
   ]
  },
  {
   "cell_type": "code",
   "execution_count": null,
   "id": "1c58ac23",
   "metadata": {},
   "outputs": [],
   "source": []
  }
 ],
 "metadata": {
  "kernelspec": {
   "display_name": "Python 3 (ipykernel)",
   "language": "python",
   "name": "python3"
  },
  "language_info": {
   "codemirror_mode": {
    "name": "ipython",
    "version": 3
   },
   "file_extension": ".py",
   "mimetype": "text/x-python",
   "name": "python",
   "nbconvert_exporter": "python",
   "pygments_lexer": "ipython3",
   "version": "3.9.7"
  }
 },
 "nbformat": 4,
 "nbformat_minor": 5
}
