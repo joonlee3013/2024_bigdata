{
 "cells": [
  {
   "cell_type": "markdown",
   "id": "c6340481",
   "metadata": {},
   "source": [
    "## 30914_이준형_0409_4"
   ]
  },
  {
   "cell_type": "code",
   "execution_count": 2,
   "id": "711f98c6",
   "metadata": {},
   "outputs": [
    {
     "name": "stdout",
     "output_type": "stream",
     "text": [
      "나이가 어떻게 되십니까? 29\n",
      "성인은 15000원입니다.\n"
     ]
    }
   ],
   "source": [
    "# 목욕탕 가면 미성년자는 6000원 성인 15000원\n",
    "# 나이를 입력받아서 구분하는 프로그램을 만들어 보자\n",
    "\n",
    "age = int(input('나이가 어떻게 되십니까? '))\n",
    "\n",
    "if age >= 20 :\n",
    "    print('성인은 15000원입니다.')\n",
    "else :\n",
    "    print('미성년자는 6000원입니다.')"
   ]
  },
  {
   "cell_type": "code",
   "execution_count": 12,
   "id": "ae1bab0b",
   "metadata": {},
   "outputs": [
    {
     "name": "stdout",
     "output_type": "stream",
     "text": [
      "나이가 어떻게 되십니까?19\n",
      "미성년자는 6000원입니다.\n",
      "금액을 투입해 주세요 --> 6000\n",
      "감사합니다. 즐거운 시간 되세요~~~\n"
     ]
    }
   ],
   "source": [
    "# 나이 구분\n",
    "# 금액 구분\n",
    "\n",
    "# 1단계\n",
    "age = int(input('나이가 어떻게 되십니까?'))\n",
    "\n",
    "if age >= 20:\n",
    "    print('성인은 15000원입니다.')\n",
    "    price = 15000\n",
    "else :\n",
    "    print('미성년자는 6000원입니다.')\n",
    "    price = 6000\n",
    "    \n",
    "#2단계 투입금액을 입력받아 입장료와 비교하기\n",
    "price_input = int(input('금액을 투입해 주세요 --> '))\n",
    "\n",
    "if price_input < price :\n",
    "    print(f'{price-price_input}원 더 내셔야 합니다.')\n",
    "elif price_input == price :\n",
    "    print(f'감사합니다. 즐거운 시간 되세요~~~')\n",
    "else :\n",
    "    print(f'{price_input-price}원 거슬러 드리겠습니다.')"
   ]
  },
  {
   "cell_type": "markdown",
   "id": "317ea769",
   "metadata": {},
   "source": [
    "어떤메뉴가 궁금하신가요? 라면\n",
    "\n",
    "기본라면: 3500원\n",
    "떡라면: 4000원\n",
    "만두라면: 4000원\n",
    "\n",
    "\n",
    "김밥\n",
    "야채김밥 : 3000원\n",
    "참치김밥 : 4000원\n",
    "꼬마김밥 : 2000원"
   ]
  },
  {
   "cell_type": "code",
   "execution_count": null,
   "id": "42daa806",
   "metadata": {},
   "outputs": [],
   "source": [
    "menu = int(input('어떤메뉴가 궁금하신가요? '))\n",
    "\n",
    "if menu >= '김밥' :\n",
    "    print('야채김밥: 2500원')\n",
    "    print('참치김밥: 3500원')\n",
    "else menu == '라면' :\n"
   ]
  }
 ],
 "metadata": {
  "kernelspec": {
   "display_name": "Python 3 (ipykernel)",
   "language": "python",
   "name": "python3"
  },
  "language_info": {
   "codemirror_mode": {
    "name": "ipython",
    "version": 3
   },
   "file_extension": ".py",
   "mimetype": "text/x-python",
   "name": "python",
   "nbconvert_exporter": "python",
   "pygments_lexer": "ipython3",
   "version": "3.9.7"
  }
 },
 "nbformat": 4,
 "nbformat_minor": 5
}
