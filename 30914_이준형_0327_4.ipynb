{
  "nbformat": 4,
  "nbformat_minor": 0,
  "metadata": {
    "colab": {
      "provenance": []
    },
    "kernelspec": {
      "name": "python3",
      "display_name": "Python 3"
    },
    "language_info": {
      "name": "python"
    }
  },
  "cells": [
    {
      "cell_type": "code",
      "source": [
        "print('학생 그룹 점수의 합계와 평균을 구합니다.')\n",
        "a = int('input(1번 학생의 점수를 입력하세요.: '))\n",
        "b = int('input(2번 학생의 점수를 입력하세요.: '))\n",
        "c = int('input(3번 학생의 점수를 입력하세요.: '))\n",
        "d = int('input(4번 학생의 점수를 입력하세요.: '))\n",
        "e = int('input(5번 학생의 점수를 입력하세요.: '))\n",
        "\n",
        "total = 0\n",
        "total += a\n",
        "total += b\n",
        "total += c\n",
        "total += d\n",
        "total += e\n",
        "\n",
        "print(f'합계는 {total}점입니다.')\n",
        "print(f'평균은 {total /5}점입니다.')"
      ],
      "metadata": {
        "id": "LSFa2K456NJ0",
        "colab": {
          "base_uri": "https://localhost:8080/",
          "height": 110
        },
        "outputId": "905b4f68-887a-42d5-e95c-bf0a530fcd92"
      },
      "execution_count": 6,
      "outputs": [
        {
          "output_type": "error",
          "ename": "SyntaxError",
          "evalue": "unmatched ')' (<ipython-input-6-0ed4c4bf3e36>, line 2)",
          "traceback": [
            "\u001b[0;36m  File \u001b[0;32m\"<ipython-input-6-0ed4c4bf3e36>\"\u001b[0;36m, line \u001b[0;32m2\u001b[0m\n\u001b[0;31m    a = int('input(1번 학생의 점수를 입력하세요.: '))\u001b[0m\n\u001b[0m                                        ^\u001b[0m\n\u001b[0;31mSyntaxError\u001b[0m\u001b[0;31m:\u001b[0m unmatched ')'\n"
          ]
        }
      ]
    },
    {
      "cell_type": "markdown",
      "source": [
        "- 배열 : 묶음 단위로 값을 저장하는 자료구조\n",
        "- 원소 : 배율에 저장된 각 객체\n",
        "- 각 원소는 0,1,------ 순서대로 인덱스(주소)를 부여받음\n",
        "- 원소의 자료형은 intgud float형 어떤것도 상관없음\n",
        "- 서로 다른 자료형을 같이 저장할 수 있음\n",
        "- 배열 원소 자체를 배열에 저장할 수 있음"
      ],
      "metadata": {
        "id": "hvSt1osv9NZq"
      }
    },
    {
      "cell_type": "code",
      "source": [
        "list01 = []\n",
        "a = [1,2,3,4,5]\n",
        "b = ['A','B','C',]\n",
        "\n",
        "print(a)\n",
        "print(b)"
      ],
      "metadata": {
        "colab": {
          "base_uri": "https://localhost:8080/"
        },
        "id": "WYpdi1Pn-ViT",
        "outputId": "d211d232-f9ba-450b-845e-a0b170510542"
      },
      "execution_count": 5,
      "outputs": [
        {
          "output_type": "stream",
          "name": "stdout",
          "text": [
            "[1, 2, 3, 4, 5]\n",
            "['A', 'B', 'C']\n"
          ]
        }
      ]
    },
    {
      "cell_type": "markdown",
      "source": [
        "- 튜플\n",
        " - 원소에 순서를 매거 결합한 것으로 원소를\n",
        " 변경할 수 없는 자료형\n",
        " - ()만 사용하면 빈 튜플 생성"
      ],
      "metadata": {
        "id": "GH8OxOwS-u3q"
      }
    },
    {
      "cell_type": "code",
      "source": [
        "tuple01 = ()\n",
        "tuple02 = 1,2,3\n",
        "tuple03 = 'A','B','C'\n",
        "\n",
        "print(tuple01)\n",
        "print(tuple02)\n",
        "print(tuple03)"
      ],
      "metadata": {
        "colab": {
          "base_uri": "https://localhost:8080/"
        },
        "id": "mBY7v2Fq_KJ7",
        "outputId": "f2cfdeaa-e3fa-4776-ea82-c8e2da1e4462"
      },
      "execution_count": 7,
      "outputs": [
        {
          "output_type": "stream",
          "name": "stdout",
          "text": [
            "()\n",
            "(1, 2, 3)\n",
            "('A', 'B', 'C')\n"
          ]
        }
      ]
    },
    {
      "cell_type": "code",
      "source": [
        "a = tuple(range(3,9))\n",
        "print(a)"
      ],
      "metadata": {
        "colab": {
          "base_uri": "https://localhost:8080/"
        },
        "id": "Y7T8wTy0_lvC",
        "outputId": "24ef21b4-0472-4a45-ebe5-84147cbdf5be"
      },
      "execution_count": 8,
      "outputs": [
        {
          "output_type": "stream",
          "name": "stdout",
          "text": [
            "(3, 4, 5, 6, 7, 8)\n"
          ]
        }
      ]
    },
    {
      "cell_type": "code",
      "source": [],
      "metadata": {
        "id": "4u8kRWmC_2u5"
      },
      "execution_count": null,
      "outputs": []
    }
  ]
}