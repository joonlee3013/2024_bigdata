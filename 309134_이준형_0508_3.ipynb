{
 "cells": [
  {
   "cell_type": "markdown",
   "id": "37bd6e92",
   "metadata": {},
   "source": [
    "## 309134_이준형_0508_3"
   ]
  },
  {
   "cell_type": "code",
   "execution_count": null,
   "id": "9d325e5b",
   "metadata": {},
   "outputs": [],
   "source": [
    "# 빈 딕셔너리 말들기\n",
    "dict_word={}\n",
    "\n",
    "# 공백을 입력할때까지 입력 키값과 밸류값 받기\n",
    "while True:\n",
    "    input_word = input('영어단어,뜻:')\n",
    "    if input_word=='':\n",
    "        break\n",
    "        #키값과 밸류값 분리하기\n",
    "        eng = input_word.split(',')[0]\n",
    "        kor = input_word.split(',')[1]\n",
    "        \n",
    "        # 키값과 밸류값 저장하기\n",
    "        dict_word[eng] = kor\n",
    "        \n",
    "#출력하기\n",
    "dict_word"
   ]
  },
  {
   "cell_type": "code",
   "execution_count": null,
   "id": "9ee48293",
   "metadata": {},
   "outputs": [],
   "source": [
    "# 빈 딕셔너리 말들기\n",
    "dict_word={}\n",
    "\n",
    "# 공백을 입력할때까지 입력 키값과 밸류값 받기\n",
    "while True:\n",
    "    input_word = input('영어단어,뜻:')\n",
    "    if input_word=='':\n",
    "        break\n",
    "        #키값과 밸류값 분리하기\n",
    "        eng = input_word.split(',')[0]\n",
    "        kor = input_word.split(',')[1]\n",
    "        \n",
    "        # 키값과 밸류값 저장하기\n",
    "        dict_word[eng] = kor\n",
    "        \n",
    "#출력하기\n",
    "dict_word"
   ]
  },
  {
   "cell_type": "code",
   "execution_count": null,
   "id": "1ace3639",
   "metadata": {},
   "outputs": [],
   "source": [
    "price = int(input('물건구매가 : '))\n",
    "\n",
    "#할인율 결정\n",
    "if price >= 100000:\n",
    "    dc = 10\n",
    "elif price >= 50000:\n",
    "    dc = 7\n",
    "elif price >= 10000:\n",
    "    dc = 5\n",
    "else :\n",
    "    dc = 0\n",
    "    \n",
    "#출력\n",
    "print(f'''\n",
    "구매가 : {price}\n",
    "할인율 : {dc}%\n",
    "할인금액 : {price*(dc/100)}\n",
    "지불금액 : {price - price*(dc/100)}\n",
    "''')"
   ]
  },
  {
   "cell_type": "code",
   "execution_count": null,
   "id": "08c87589",
   "metadata": {},
   "outputs": [],
   "source": [
    "price = int(input('물건구매가 : '))\n",
    "\n",
    "#할인율 결정\n",
    "if price >= 100000:\n",
    "    dc = 10\n",
    "elif price >= 50000:\n",
    "    dc = 7\n",
    "elif price >= 10000:\n",
    "    dc = 5\n",
    "else :\n",
    "    dc = 0\n",
    "    \n",
    "#출력\n",
    "print(f'''\n",
    "구매가 : {price}\n",
    "할인율 : {dc}%\n",
    "할인금액 : {price*(dc/100)}\n",
    "지불금액 : {price - price*(dc/100)}\n",
    "''')"
   ]
  },
  {
   "cell_type": "code",
   "execution_count": null,
   "id": "b419fa94",
   "metadata": {},
   "outputs": [],
   "source": [
    "num1 = int(input('숫자1 : '))\n",
    "num2 = int(input('숫자2 : '))\n",
    "op = input('연산기호 : ')\n",
    "\n",
    "if op == '+':\n",
    "    print(f'덧셈 : {num1} + {num2} = {num1+num2}')\n",
    "elif op == '-':\n",
    "    print(f'뺼셈 : {num1} - {num2} = {num1-num2}')\n",
    "elif op == '*':\n",
    "    print(f'곱셈 : {num1} * {num2} = {num1*num2}')\n",
    "elif op == '/':\n",
    "    print(f'나눗셈 : {num1} / {num2} = {num1/num2}')\n",
    "elif :\n",
    "    print(f'잘못 입력하셨습니다.')\n",
    "    "
   ]
  },
  {
   "cell_type": "code",
   "execution_count": null,
   "id": "83f8aa59",
   "metadata": {},
   "outputs": [],
   "source": [
    "num1 = int(input('숫자1 : '))\n",
    "num2 = int(input('숫자2 : '))\n",
    "op = input('연산기호 : ')\n",
    "\n",
    "if op == '+':\n",
    "    print(f'덧셈 : {num1} + {num2} = {num1+num2}')\n",
    "elif op == '-':\n",
    "    print(f'뺼셈 : {num1} - {num2} = {num1-num2}')\n",
    "elif op == '*':\n",
    "    print(f'곱셈 : {num1} * {num2} = {num1*num2}')\n",
    "elif op == '/':\n",
    "    print(f'나눗셈 : {num1} / {num2} = {num1/num2}')\n",
    "elif :\n",
    "    print(f'잘못 입력하셨습니다.')\n",
    "    "
   ]
  },
  {
   "cell_type": "code",
   "execution_count": null,
   "id": "2965f935",
   "metadata": {},
   "outputs": [],
   "source": [
    "import random\n",
    "def guess_number_game(max_attempts=5):\n",
    "    cnt = 0\n",
    "    num = random.randint(1, 100)\n",
    "    \n",
    "    while cnt < max_attempts:\n",
    "        cnt += 1\n",
    "        answer == int(input(d'Attempt {cnt}. 예상 숫자를 입력하세요(1-100): '))\n",
    "        print(f' 정답 입니다!')\n",
    "        print(f'{cnt}번 만에 맞추었습니다.')\n",
    "        return\n",
    "    \n",
    "    if answer < num:\n",
    "        print('Up')\n",
    "    else:\n",
    "        print('Down')\n",
    "    print(f'횟수 초과입니다. 정답은 {num}였습니다.')\n",
    "    # 시작\n",
    "    guess_number_game()"
   ]
  },
  {
   "cell_type": "code",
   "execution_count": null,
   "id": "55ecd0a8",
   "metadata": {},
   "outputs": [],
   "source": [
    "import random\n",
    "def guess_number_game(max_attempts=5):\n",
    "    cnt = 0\n",
    "    num = random.randint(1, 100)\n",
    "    \n",
    "    while cnt < max_attempts:\n",
    "        cnt += 1\n",
    "        answer == int(input(d'Attempt {cnt}. 예상 숫자를 입력하세요(1-100): '))\n",
    "        print(f' 정답 입니다!')\n",
    "        print(f'{cnt}번 만에 맞추었습니다.')\n",
    "        return\n",
    "    \n",
    "    if answer < num:\n",
    "        print('Up')\n",
    "    else:\n",
    "        print('Down')\n",
    "    print(f'횟수 초과입니다. 정답은 {num}였습니다.')\n",
    "    # 시작\n",
    "    guess_number_game()"
   ]
  },
  {
   "cell_type": "code",
   "execution_count": null,
   "id": "f5e61395",
   "metadata": {},
   "outputs": [],
   "source": []
  }
 ],
 "metadata": {
  "kernelspec": {
   "display_name": "Python 3 (ipykernel)",
   "language": "python",
   "name": "python3"
  },
  "language_info": {
   "codemirror_mode": {
    "name": "ipython",
    "version": 3
   },
   "file_extension": ".py",
   "mimetype": "text/x-python",
   "name": "python",
   "nbconvert_exporter": "python",
   "pygments_lexer": "ipython3",
   "version": "3.9.7"
  }
 },
 "nbformat": 4,
 "nbformat_minor": 5
}
