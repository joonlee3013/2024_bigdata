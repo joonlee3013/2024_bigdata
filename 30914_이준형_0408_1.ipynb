{
 "cells": [
  {
   "cell_type": "markdown",
   "id": "82de5160",
   "metadata": {},
   "source": [
    "## 30914_이준형_0408_1"
   ]
  },
  {
   "cell_type": "markdown",
   "id": "b5538c4c",
   "metadata": {},
   "source": [
    "## 선택구조 조건 하나 일때"
   ]
  },
  {
   "cell_type": "code",
   "execution_count": 4,
   "id": "85ad685b",
   "metadata": {},
   "outputs": [
    {
     "name": "stdout",
     "output_type": "stream",
     "text": [
      "청소년은 주류를 구매할 수 없습니다.\n"
     ]
    }
   ],
   "source": [
    "age = 19\n",
    "\n",
    "# 청소년은 주류를 구매할 수 없습니다. 출력\n",
    "\n",
    "if age < 20 :\n",
    "    print(f'청소년은 주류를 구매할 수 없습니다.')"
   ]
  },
  {
   "cell_type": "code",
   "execution_count": 7,
   "id": "c8dc834e",
   "metadata": {},
   "outputs": [
    {
     "name": "stdout",
     "output_type": "stream",
     "text": [
      "나이가 어떻게 되세요? 20\n",
      "성인이시네요 주류를 구매할 수 있습니다.\n"
     ]
    }
   ],
   "source": [
    "age = int(input('나이가 어떻게 되세요? '))\n",
    "\n",
    "if age < 20 :\n",
    "    print(f'청소년은 주류를 구매할 수 없습니다.')\n",
    "else :\n",
    "    print(f'성인이시네요 주류를 구매할 수 있습니다.')"
   ]
  },
  {
   "cell_type": "code",
   "execution_count": 11,
   "id": "71cc7f14",
   "metadata": {},
   "outputs": [
    {
     "name": "stdout",
     "output_type": "stream",
     "text": [
      "나이가 어떻게 되세요? 19\n",
      "청소년은 주류를 구매할 수 없습니다.\n",
      "1년 후에 구매 가능합니다.\n"
     ]
    }
   ],
   "source": [
    "age = int(input('나이가 어떻게 되세요? '))\n",
    "\n",
    "if age < 20 :\n",
    "    print(f'청소년은 주류를 구매할 수 없습니다.')\n",
    "print(f'{20-age}년 후에 구매 가능합니다.')"
   ]
  },
  {
   "cell_type": "markdown",
   "id": "ea868958",
   "metadata": {},
   "source": [
    "## 50000원 이하면 배송비 2500원이 추가 됩니다."
   ]
  },
  {
   "cell_type": "code",
   "execution_count": 14,
   "id": "094d6033",
   "metadata": {},
   "outputs": [
    {
     "name": "stdout",
     "output_type": "stream",
     "text": [
      "구매 금액은?49999\n",
      "배송비 2500원이 추가 됩니다.\n"
     ]
    }
   ],
   "source": [
    "price = int(input('구매 금액은?'))\n",
    "\n",
    "if price < 50000 :\n",
    "    print(f'배송비 2500원이 추가 됩니다.')"
   ]
  },
  {
   "cell_type": "code",
   "execution_count": 16,
   "id": "5b20f67b",
   "metadata": {},
   "outputs": [
    {
     "name": "stdout",
     "output_type": "stream",
     "text": [
      "구매 금액은?50001\n",
      "배송비 무료입니다.\n",
      "최종 결제 금액은 50001입니다.\n"
     ]
    }
   ],
   "source": [
    "price = int(input('구매 금액은?'))\n",
    "\n",
    "if price < 50000 :\n",
    "    print(f'배송비 2500원이 추가 됩니다.')\n",
    "    print(f'최종 결제 금액은 {price+2500}입니다.')\n",
    "else :\n",
    "    print(f'배송비 무료입니다.')\n",
    "    print(f'최종 결제 금액은 {price}입니다.')"
   ]
  },
  {
   "cell_type": "code",
   "execution_count": 17,
   "id": "f649fa12",
   "metadata": {},
   "outputs": [
    {
     "name": "stdout",
     "output_type": "stream",
     "text": [
      "오늘이 며칠입니다? 8\n",
      "짝수번호 차량만 통행 가능합니다.\n",
      "홀수번호 차주는 오늘 대중교통을 이용해 주세요.\n"
     ]
    }
   ],
   "source": [
    "# 차량 이부제\n",
    "date = int(input('오늘이 며칠입니다? '))\n",
    "\n",
    "if date % 2 == 0 :\n",
    "    print(f'짝수번호 차량만 통행 가능합니다.')\n",
    "    print(f'홀수번호 차주는 오늘 대중교통을 이용해 주세요.')\n",
    "else :\n",
    "    print(f'홀수번호 차량만 통행 가능합니다.')\n",
    "    print(f'짝수번호 차주는 오늘 대중교통을 이용해 주세요.')"
   ]
  },
  {
   "cell_type": "code",
   "execution_count": null,
   "id": "b854a1d2",
   "metadata": {},
   "outputs": [],
   "source": []
  }
 ],
 "metadata": {
  "kernelspec": {
   "display_name": "Python 3 (ipykernel)",
   "language": "python",
   "name": "python3"
  },
  "language_info": {
   "codemirror_mode": {
    "name": "ipython",
    "version": 3
   },
   "file_extension": ".py",
   "mimetype": "text/x-python",
   "name": "python",
   "nbconvert_exporter": "python",
   "pygments_lexer": "ipython3",
   "version": "3.9.7"
  }
 },
 "nbformat": 4,
 "nbformat_minor": 5
}
