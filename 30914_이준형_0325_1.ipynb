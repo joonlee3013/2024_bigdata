{
 "cells": [
  {
   "cell_type": "markdown",
   "id": "6d7600b3",
   "metadata": {},
   "source": [
    "## 30914_이준형_0325_1"
   ]
  },
  {
   "cell_type": "code",
   "execution_count": 13,
   "id": "337d327a",
   "metadata": {},
   "outputs": [
    {
     "name": "stdout",
     "output_type": "stream",
     "text": [
      "1부터 n까지 정수의 합을 구합니다.\n",
      "n값을 입력하세요.: 14\n",
      "1부터 14까지 정수의 합은 105입니다.\n"
     ]
    }
   ],
   "source": [
    "print('1부터 n까지 정수의 합을 구합니다.')\n",
    "\n",
    "# n값이 0보다 크면 빠져나간다.\n",
    "while True:\n",
    "    n = int(input('n값을 입력하세요.: '))\n",
    "    if n > 0:\n",
    "        break\n",
    "        \n",
    "# 변수 선언 및 초기화\n",
    "sum = 0\n",
    "\n",
    "\n",
    "for i in range(1, n+1):\n",
    "    sum += i\n",
    "    i+=1\n",
    "    \n",
    "print(f'1부터 {n}까지 정수의 합은 {sum}입니다.')\n"
   ]
  },
  {
   "cell_type": "markdown",
   "id": "f8fb06a1",
   "metadata": {},
   "source": [
    "- 변의길이와 넓이가 모두 정수인 직사각형에서 변의 길이를 구하는 프로그램\n",
    "- 짧은 변과 긴 변의 길이는 구별하지 않음\n",
    "- 예) 직사각형의 넓이가 32이면 변의 길이를 1 x 32, 2 x 16, 4 x 8만 출력"
   ]
  },
  {
   "cell_type": "code",
   "execution_count": 16,
   "id": "52559b8d",
   "metadata": {},
   "outputs": [
    {
     "name": "stdout",
     "output_type": "stream",
     "text": [
      "직사각형의 넓이를 입력하세요,: 5\n",
      "1 x 5\n"
     ]
    }
   ],
   "source": [
    "# 가로, 세로 길이가 정수이고 넓이가 area인 직사각형에서 변의 길이 나열하기\n",
    "\n",
    "\n",
    "area = int(input('직사각형의 넓이를 입력하세요,: '))\n",
    "\n",
    "for i in range(1, area+1):\n",
    "    if i * i > area : break\n",
    "    if area % i :continue\n",
    "    print(f'{i} x {area // i}')"
   ]
  },
  {
   "cell_type": "code",
   "execution_count": null,
   "id": "0c24776d",
   "metadata": {},
   "outputs": [],
   "source": []
  }
 ],
 "metadata": {
  "kernelspec": {
   "display_name": "Python 3 (ipykernel)",
   "language": "python",
   "name": "python3"
  },
  "language_info": {
   "codemirror_mode": {
    "name": "ipython",
    "version": 3
   },
   "file_extension": ".py",
   "mimetype": "text/x-python",
   "name": "python",
   "nbconvert_exporter": "python",
   "pygments_lexer": "ipython3",
   "version": "3.9.7"
  }
 },
 "nbformat": 4,
 "nbformat_minor": 5
}
