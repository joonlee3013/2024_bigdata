{
 "cells": [
  {
   "cell_type": "markdown",
   "id": "e727239b",
   "metadata": {},
   "source": [
    "## 30914_이준형_0418_6"
   ]
  },
  {
   "cell_type": "code",
   "execution_count": null,
   "id": "c21095ce",
   "metadata": {},
   "outputs": [
    {
     "name": "stdout",
     "output_type": "stream",
     "text": [
      "월 별로 수입액을 입력시켜 주세요!\n",
      "1 월의 수입액을 입력시켜 주세요\n",
      "4\n",
      "2 월의 수입액을 입력시켜 주세요\n",
      "4\n",
      "3 월의 수입액을 입력시켜 주세요\n",
      "4\n",
      "4 월의 수입액을 입력시켜 주세요\n"
     ]
    }
   ],
   "source": [
    "money = []\n",
    "print('월 별로 수입액을 입력시켜 주세요!')\n",
    "for j in range(0, 6) :\n",
    "    print((j+1), '월의 수입액을 입력시켜 주세요')\n",
    "    money.append(int(input('')))\n",
    "sum = 0\n",
    "i = 0\n",
    "print('상반기 월별 수입액 입니다.')\n",
    "while i<6 :\n",
    "    sum = money[i] + sum\n",
    "    i = i+1\n",
    "avg = sum / 6\n",
    "print('상반기 월 수입액의 평균은',sum,'만원 입니다.')\n",
    "print('상반기 월 수입액의 평균은',avg,'만원 입니다.')"
   ]
  },
  {
   "cell_type": "code",
   "execution_count": null,
   "id": "c8f4d689",
   "metadata": {},
   "outputs": [],
   "source": [
    "money = [] # 월별 수입을 저장할 리스트를 초기화합니다.\n",
    "print('월 별로 수입액을 입력시켜 주세요!')\n",
    "for j in range(0, 6) :\n",
    "    print((j+1), '월의 수입액을 입력시켜 주세요')\n",
    "    money.append(int(input(''))) # 사용자로부터 수입을 입력 받아 리스트애 추가합니다.\n",
    "sum = 0 # 총 수입을 저장할 변수를 초기화합니다.\n",
    "i = 0\n",
    "print('상반기 월별 수입액 입니다.')\n",
    "while i<6 :\n",
    "    sum = money[i] + sum # 리스트의 각 항목을 더해 총 수입을 계산합니다.\n",
    "    i = i+1\n",
    "avg = sum / 6 # 평균을 계산합니다.\n",
    "print('상반기 월 수입액의 평균은',sum,'만원 입니다.')\n",
    "print('상반기 월 수입액의 평균은',avg,'만원 입니다.')"
   ]
  },
  {
   "cell_type": "code",
   "execution_count": null,
   "id": "3cf83c2d",
   "metadata": {},
   "outputs": [],
   "source": [
    "import random\n",
    "score = [] # 점수를 저징할 리스트를 초기화합니다.\n",
    "# 25며의 학생들에게 무작위로 점수를 부여합니다.\n",
    "for i in range(0,25) :\n",
    "    score.append(random.radint(0,100))\n",
    "print('리스트에서 점수가 70점 이상인 번호와 값 출력하기')\n",
    "# 리스트애서 70점 이상인 점수를 가진 학생들의 번호와 점수를 출력합니다.\n",
    "for s in score :\n",
    "    if s >= 70:\n",
    "        print(score.index(s) + 1, '번', s)"
   ]
  },
  {
   "cell_type": "code",
   "execution_count": null,
   "id": "4c98a9c2",
   "metadata": {},
   "outputs": [],
   "source": [
    "신분당선 = ['광교','광교중앙','상현','성복','수지구청','동천','미금','정자',\n",
    "       '판교','청계산입구','양재시민의숲','양재','강남']\n",
    "팔호선 = ['모란','수진','신흥','단대오거리','남한산성','산성','남위례','복정',\n",
    "       '장지','문정','가락시장','송파','석촌','잠실','몽촌토성','강동구청','천호','암사']\n",
    "\n",
    "print('지하철~'  * 4)\n",
    "호선 =  input('몇호선?')\n",
    "      \n",
    "for i in range(10):\n",
    "      if 호선 == '신분당선' :\n",
    "          입력 = input()\n",
    "          if 입력 not in  신분당선:\n",
    "          print('땡! 해당 역은', 호선, '이 아닙니다!')\n",
    "          print('벌칙 당첨!!')\n",
    "          break\n",
    "    elif 호선 == '팔호선':\n",
    "          입력 = input()\n",
    "        if 입력 not in 팔호선:\n",
    "          print('땡! 해당 역은', 호선, '이 아닙니다!')\n",
    "          print('벌칙 당첨!!')\n",
    "          break"
   ]
  },
  {
   "cell_type": "code",
   "execution_count": null,
   "id": "dff098ec",
   "metadata": {},
   "outputs": [],
   "source": []
  }
 ],
 "metadata": {
  "kernelspec": {
   "display_name": "Python 3 (ipykernel)",
   "language": "python",
   "name": "python3"
  },
  "language_info": {
   "codemirror_mode": {
    "name": "ipython",
    "version": 3
   },
   "file_extension": ".py",
   "mimetype": "text/x-python",
   "name": "python",
   "nbconvert_exporter": "python",
   "pygments_lexer": "ipython3",
   "version": "3.9.7"
  }
 },
 "nbformat": 4,
 "nbformat_minor": 5
}
