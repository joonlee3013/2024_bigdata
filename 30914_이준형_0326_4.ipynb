{
 "cells": [
  {
   "cell_type": "markdown",
   "id": "2d267ca8",
   "metadata": {},
   "source": [
    "## 30914_이준형_0326_4"
   ]
  },
  {
   "cell_type": "code",
   "execution_count": 17,
   "id": "85f4cc10",
   "metadata": {},
   "outputs": [
    {
     "name": "stdout",
     "output_type": "stream",
     "text": [
      "1,2,3,4,5,6,7,9,10,11,12\n"
     ]
    }
   ],
   "source": [
    "print('1,2,3,4,5,6,7,9,10,11,12')"
   ]
  },
  {
   "cell_type": "code",
   "execution_count": 18,
   "id": "72051b7c",
   "metadata": {},
   "outputs": [
    {
     "name": "stdout",
     "output_type": "stream",
     "text": [
      "1 2 3 4 5 6 7 9 10 11 12 \n"
     ]
    }
   ],
   "source": [
    "for i in range(1,13):\n",
    "    if i == 8:\n",
    "        continue\n",
    "    print(i, end=' ')\n",
    "print()"
   ]
  },
  {
   "cell_type": "code",
   "execution_count": 19,
   "id": "5eed21b5",
   "metadata": {
    "scrolled": true
   },
   "outputs": [
    {
     "name": "stdout",
     "output_type": "stream",
     "text": [
      "---------------------------\n",
      "  1\n",
      "  2\n",
      "  3\n",
      "  4\n",
      "  5\n",
      "  6\n",
      "  7\n",
      "  8\n",
      "  9\n",
      "  2\n",
      "  4\n",
      "  6\n",
      "  8\n",
      " 10\n",
      " 12\n",
      " 14\n",
      " 16\n",
      " 18\n",
      "  3\n",
      "  6\n",
      "  9\n",
      " 12\n",
      " 15\n",
      " 18\n",
      " 21\n",
      " 24\n",
      " 27\n",
      "  4\n",
      "  8\n",
      " 12\n",
      " 16\n",
      " 20\n",
      " 24\n",
      " 28\n",
      " 32\n",
      " 36\n",
      "  5\n",
      " 10\n",
      " 15\n",
      " 20\n",
      " 25\n",
      " 30\n",
      " 35\n",
      " 40\n",
      " 45\n",
      "  6\n",
      " 12\n",
      " 18\n",
      " 24\n",
      " 30\n",
      " 36\n",
      " 42\n",
      " 48\n",
      " 54\n",
      "  7\n",
      " 14\n",
      " 21\n",
      " 28\n",
      " 35\n",
      " 42\n",
      " 49\n",
      " 56\n",
      " 63\n",
      "  8\n",
      " 16\n",
      " 24\n",
      " 32\n",
      " 40\n",
      " 48\n",
      " 56\n",
      " 64\n",
      " 72\n",
      "  9\n",
      " 18\n",
      " 27\n",
      " 36\n",
      " 45\n",
      " 54\n",
      " 63\n",
      " 72\n",
      " 81\n",
      "---------------------------\n"
     ]
    }
   ],
   "source": [
    "print('-' * 27)\n",
    "for i in range(1, 10): #행 루프\n",
    "    for j in range(1, 10): #열 루프\n",
    "        print(f'{i * j:3}', end='')\n",
    "        print()\n",
    "print('-' * 27)"
   ]
  },
  {
   "cell_type": "code",
   "execution_count": 23,
   "id": "eedfdb93",
   "metadata": {},
   "outputs": [
    {
     "name": "stdout",
     "output_type": "stream",
     "text": [
      "왼쪽 아래가 직각인 이등변 삼각형을 출력합니다.\n",
      "짧은 변의 길이를 입력하세요.: 5\n",
      "*\n",
      "*\n",
      "*\n",
      "*\n",
      "*\n",
      "*\n",
      "*\n",
      "*\n",
      "*\n",
      "*\n",
      "*\n",
      "*\n",
      "*\n",
      "*\n",
      "*\n"
     ]
    }
   ],
   "source": [
    "print('왼쪽 아래가 직각인 이등변 삼각형을 출력합니다.')\n",
    "n = int(input('짧은 변의 길이를 입력하세요.: '))\n",
    "for i in range(n):\n",
    "    for j in range(i+1):\n",
    "        print(f'*',end='')\n",
    "        print()"
   ]
  },
  {
   "cell_type": "code",
   "execution_count": null,
   "id": "cfe13547",
   "metadata": {},
   "outputs": [],
   "source": []
  },
  {
   "cell_type": "code",
   "execution_count": null,
   "id": "ecc3f8cc",
   "metadata": {},
   "outputs": [],
   "source": []
  }
 ],
 "metadata": {
  "kernelspec": {
   "display_name": "Python 3 (ipykernel)",
   "language": "python",
   "name": "python3"
  },
  "language_info": {
   "codemirror_mode": {
    "name": "ipython",
    "version": 3
   },
   "file_extension": ".py",
   "mimetype": "text/x-python",
   "name": "python",
   "nbconvert_exporter": "python",
   "pygments_lexer": "ipython3",
   "version": "3.9.7"
  }
 },
 "nbformat": 4,
 "nbformat_minor": 5
}
