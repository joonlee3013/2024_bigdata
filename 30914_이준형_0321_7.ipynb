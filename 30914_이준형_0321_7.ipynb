{
 "cells": [
  {
   "cell_type": "markdown",
   "id": "0c7cda63",
   "metadata": {},
   "source": [
    "## 30914_이준형_0321_7"
   ]
  },
  {
   "cell_type": "code",
   "execution_count": 1,
   "id": "7404a08f",
   "metadata": {},
   "outputs": [
    {
     "name": "stdout",
     "output_type": "stream",
     "text": [
      "+와 -를 번갈아 출력합니다.\n",
      "몇 개를 출력할까요?: 20\n",
      "+-+-+-+-+-+-+-+-+-+-\n"
     ]
    }
   ],
   "source": [
    "print('+와 -를 번갈아 출력합니다.')\n",
    "n = int(input('몇 개를 출력할까요?: '))\n",
    "for i in range(n):\n",
    "    if i % 2:\n",
    "        print('-', end='')\n",
    "    else:\n",
    "        print('+', end='')\n",
    "        \n",
    "print()"
   ]
  },
  {
   "cell_type": "code",
   "execution_count": 2,
   "id": "26ca2c74",
   "metadata": {},
   "outputs": [
    {
     "name": "stdout",
     "output_type": "stream",
     "text": [
      "+와 -를 번갈아 출력합니다.\n",
      "몇 개를 출력할까요?: 20\n",
      "+-+-+-+-+-+-+-+-+-+-\n"
     ]
    }
   ],
   "source": [
    "# range (처음값, 마지값)\n",
    "\n",
    "print('+와 -를 번갈아 출력합니다.')\n",
    "n = int(input('몇 개를 출력할까요?: '))\n",
    "for i in range(1,n+1):\n",
    "    if i % 2:\n",
    "        print('+', end='')\n",
    "    else:\n",
    "        print('-', end='')\n",
    "        \n",
    "print()"
   ]
  },
  {
   "cell_type": "code",
   "execution_count": 3,
   "id": "cc4f3629",
   "metadata": {},
   "outputs": [
    {
     "name": "stdout",
     "output_type": "stream",
     "text": [
      "+와 -를 번갈아 출력합니다.\n",
      "몇 개를 출력할까요?: 20\n",
      "+-+-+-+-+-+-+-+-+-+-\n"
     ]
    }
   ],
   "source": [
    "print('+와 -를 번갈아 출력합니다.')\n",
    "n = int(input('몇 개를 출력할까요?: '))\n",
    "for _ in range(n // 2):\n",
    "        print('+-', end='')\n",
    "if n % 2:\n",
    "        print('+', end='')\n",
    "        \n",
    "print()"
   ]
  },
  {
   "cell_type": "code",
   "execution_count": 8,
   "id": "d5f58c89",
   "metadata": {},
   "outputs": [
    {
     "name": "stdout",
     "output_type": "stream",
     "text": [
      "*를 출력합니다.\n",
      "몇 개를 출력할까요?: 10\n",
      "몇 개마다 줄바꿈할까요?: 5\n",
      "*****\n",
      "*****\n"
     ]
    }
   ],
   "source": [
    "print('*를 출력합니다.')\n",
    "n = int(input('몇 개를 출력할까요?: '))\n",
    "w = int(input('몇 개마다 줄바꿈할까요?: '))\n",
    "\n",
    "#n번 반복\n",
    "for i in range(n):\n",
    "    print('*', end='')\n",
    "    if i % w == w - 1: #n번 판단\n",
    "        print() #줄바꿈"
   ]
  },
  {
   "cell_type": "code",
   "execution_count": null,
   "id": "aa19439a",
   "metadata": {},
   "outputs": [],
   "source": [
    "print('1부터 n까지 정수의 합을 구합니다.')"
   ]
  }
 ],
 "metadata": {
  "kernelspec": {
   "display_name": "Python 3 (ipykernel)",
   "language": "python",
   "name": "python3"
  },
  "language_info": {
   "codemirror_mode": {
    "name": "ipython",
    "version": 3
   },
   "file_extension": ".py",
   "mimetype": "text/x-python",
   "name": "python",
   "nbconvert_exporter": "python",
   "pygments_lexer": "ipython3",
   "version": "3.9.7"
  }
 },
 "nbformat": 4,
 "nbformat_minor": 5
}
