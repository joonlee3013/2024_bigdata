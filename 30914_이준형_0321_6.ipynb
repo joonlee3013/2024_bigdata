{
 "cells": [
  {
   "cell_type": "markdown",
   "id": "f4278d5c",
   "metadata": {},
   "source": [
    "본 문제는 python 의 빠른 기초 학습을 위해 설계된 문제로서 python 코드 제출을 기준으로 설명되어 있습니다. \n",
    "------\n",
    "\n",
    "정수 2개(a, b)를 입력받아 a를 2b배 곱한 값으로 출력해보자.\n",
    "0 <= a <= 10, 0 <= b <= 10\n",
    "\n",
    "예시\n",
    "a = 2\n",
    "b = 10\n",
    "print(a << b)  #210 = 1024 가 출력된다.\n",
    "\n",
    "참고\n",
    "예를 들어 1 3 이 입력되면 1을 23(8)배 하여 출력한다."
   ]
  },
  {
   "cell_type": "code",
   "execution_count": null,
   "id": "2f2c49f7",
   "metadata": {},
   "outputs": [],
   "source": [
    "a,b = input().split()\n",
    "a= int(a)\n",
    "b= int(b)\n",
    "print(a<<b)"
   ]
  },
  {
   "cell_type": "markdown",
   "id": "2d66f0d2",
   "metadata": {},
   "source": [
    "본 문제는 python 의 빠른 기초 학습을 위해 설계된 문제로서 python 코드 제출을 기준으로 설명되어 있습니다. \n",
    "------\n",
    "\n",
    "두 정수(a, b)를 입력받아\n",
    "a가 b보다 작으면 True 를, a가 b보다 크거나 같으면 False 를 출력하는 프로그램을 작성해보자.\n",
    "\n",
    "예시\n",
    "print(123<456)  #비교 연산자 < 의 계산 결과인 True(참)가 출력된다.\n",
    "(123, 456 은 숫자로 작성된 단어이기 때문에 10진수로 인식된다.)\n",
    "\n",
    "참고\n",
    "어떤 값을 비교하기 위해 비교/관계(comparison/relational) 연산자(operator)를 사용할 수 있다.\n",
    "\n",
    "비교/관계연산자 < (less than sign) 는\n",
    "왼쪽의 값이 오른쪽 값 보다 작은 경우 True(참)로 계산하고,\n",
    "그 외의 경우에는 False(거짓)로 계산한다.\n",
    "\n",
    "비교/관계연산자도 일반적인 사칙연산자처럼 주어진 두 수를 이용해 계산을 수행하고,\n",
    "그 결과를 True(참), 또는 False(거짓)로 계산해 주는 연산자이다.\n",
    "\n",
    "비교/관계연산자는 <, >, <=, >=, ==(같다), !=(다르다) 6개가 있다.\n",
    "\n",
    "True(참) 또는 False(거짓) 값으로만 표현하고 저장하는 값을 불(bool)/불리언(boolean) 값이라고 한다.\n",
    "정수, 실수, 문자, 문자열과 마찬가지로 또 다른 형태의 데이터형(data type)이다."
   ]
  },
  {
   "cell_type": "code",
   "execution_count": null,
   "id": "c2ee0003",
   "metadata": {},
   "outputs": [],
   "source": [
    "a,b = input().split()\n",
    "a= int(a)\n",
    "b= int(b)\n",
    "print(a<b)"
   ]
  },
  {
   "cell_type": "markdown",
   "id": "05b38cb1",
   "metadata": {},
   "source": [
    "본 문제는 python 의 빠른 기초 학습을 위해 설계된 문제로서 python 코드 제출을 기준으로 설명되어 있습니다. \n",
    "------\n",
    "\n",
    "두 정수(a, b)를 입력받아\n",
    "a와 b의 값이 같으면 True 를, 같지 않으면 False 를 출력하는 프로그램을 작성해보자.\n",
    "\n",
    "참고\n",
    "어떤 값을 비교하기 위해 비교/관계(comparison/relational) 연산자(operator)를 사용할 수 있다.\n",
    "\n",
    "비교/관계연산자 == (equal sign 2개) 는\n",
    "왼쪽의 계산 결과값과 오른쪽의 계산 결과값이 같은 경우 True(참)로 계산하고,\n",
    "그 외의 경우에는 False(거짓)로 계산한다.\n",
    "\n",
    "비교/관계연산자도 일반적인 사칙연산자처럼 주어진 두 수를 이용해 계산을 수행하고,\n",
    "그 결과를 True(참), 또는 False(거짓)로 계산해 주는 연산자이다.\n",
    "\n",
    "비교/관계연산자는 <, >, <=, >=, ==(같다), !=(다르다) 6개가 있다.\n",
    "\n",
    "** 수학에서 왼쪽과 오른쪽의 계산 결과가 같음(동치)을 나타내는 기호 =(equal sign) 1개는\n",
    "프로그래밍언어에서는 전혀 다른 의미로 사용된다.\n",
    "\n",
    "a = 1 와 같은 표현은 a와 1의 값이 같다는 의미가 아니라\n",
    "오른쪽의 계산 결과값인 1을 왼쪽의 변수 a에 저장하라는 의미이다."
   ]
  },
  {
   "cell_type": "code",
   "execution_count": null,
   "id": "d4922413",
   "metadata": {},
   "outputs": [],
   "source": [
    "a,b = input().split()\n",
    "a= int(a)\n",
    "b= int(b)\n",
    "print(a==b)"
   ]
  },
  {
   "cell_type": "markdown",
   "id": "9e4f7f1f",
   "metadata": {},
   "source": [
    "본 문제는 python 의 빠른 기초 학습을 위해 설계된 문제로서 python 코드 제출을 기준으로 설명되어 있습니다. \n",
    "------\n",
    "\n",
    "두 정수(a, b)를 입력받아\n",
    "b의 값이 a의 값 보다 크거나 같으면 True 를, 같지 않으면 False 를 출력하는 프로그램을 작성해보자.\n",
    "\n",
    "참고\n",
    "어떤 값을 비교하기 위해 비교/관계(comparison/relational) 연산자(operator)를 사용할 수 있다.\n",
    "\n",
    "비교/관계연산자 <= 는\n",
    "오른쪽의 계산 결과값이 왼쪽의 계산 결과값보다 크거나 같은 경우 True(참)로 계산하고,\n",
    "그 외의 경우에는 False(거짓)로 계산한다.\n",
    "\n",
    "<=, >= 연산자는 같음(==)을 포함한다. 따라서 “작다/크다” 거나 \"같다”는 의미를 가진다.\n",
    "작다(<)/크다(>)/다르다(!) 기호는 등호(=)와 함께 왼쪽에 붙여써야 한다.\n",
    "\n",
    "비교/관계연산자도 일반적인 사칙연산자처럼 주어진 두 수를 이용해 계산을 수행하고,\n",
    "그 결과를 True(참), 또는 False(거짓)로 계산해주는 연산자이다.\n",
    "비교/관계연산자는 <, >, <=, >=, ==(같다), !=(다르다) 6개가 있다."
   ]
  },
  {
   "cell_type": "code",
   "execution_count": null,
   "id": "cee6a576",
   "metadata": {},
   "outputs": [],
   "source": [
    "a,b = input().split()\n",
    "a= int(a)\n",
    "b= int(b)\n",
    "print(a<=b)"
   ]
  },
  {
   "cell_type": "markdown",
   "id": "e5040c05",
   "metadata": {},
   "source": [
    "본 문제는 python 의 빠른 기초 학습을 위해 설계된 문제로서 python 코드 제출을 기준으로 설명되어 있습니다. \n",
    "------\n",
    "\n",
    "두 정수(a, b)를 입력받아\n",
    "a의 값이 b의 값과 서로 다르면 True 를, 같으면 False 를 출력하는 프로그램을 작성해보자.\n",
    "\n",
    "참고\n",
    "어떤 값을 비교하기 위해 비교/관계(comparison/relational) 연산자(operator)를 사용할 수 있다.\n",
    "\n",
    "비교/관계연산자 != 는\n",
    "왼쪽의 계산 결과값이 오른쪽의 계산 결과값이 서로 다른 경우 True(참)로 계산하고,\n",
    "그 외의 경우에는 False(거짓)로 계산한다.\n",
    "\n",
    "비교/관계연산자도 일반적인 사칙연산자처럼 주어진 두 수를 이용해 계산을 수행하고,\n",
    "그 결과를 True(참), 또는 False(거짓)로 계산해주는 연산자이다.\n",
    "비교/관계연산자는 <, >, <=, >=, ==(같다), !=(다르다) 6개가 있다."
   ]
  },
  {
   "cell_type": "code",
   "execution_count": null,
   "id": "0df48d50",
   "metadata": {},
   "outputs": [],
   "source": [
    "a,b = input().split()\n",
    "a= int(a)\n",
    "b= int(b)\n",
    "print(a!=b)"
   ]
  },
  {
   "cell_type": "markdown",
   "id": "47d03903",
   "metadata": {},
   "source": [
    "본 문제는 python 의 빠른 기초 학습을 위해 설계된 문제로서 python 코드 제출을 기준으로 설명되어 있습니다. \n",
    "------\n",
    "\n",
    "정수가 입력되었을 때, True/False 로 평가해주는 프로그램을 작성해보자.\n",
    "\n",
    "예시\n",
    "n = int(input())\n",
    "print(bool(n))\n",
    "\n",
    "참고\n",
    "bool( ) 을 이용하면 입력된 식이나 값을 평가해 불 형의 값(True 또는 False)을 출력해준다.\n",
    "식이나 값을 계산해서 결과값이 만들어지는 것을 평가(evaluate)라고 한다. \n",
    "\n",
    "python 언어에서 정수값 0은 False(거짓)로 평가되고, 그 외의 값들은 모두 True(참)로 평가된다.\n",
    "** 불 대수(boolean algebra)는 수학자 불이 만들어낸 것으로 True(참)/False(거짓) 값만 가지는 논리값과 그 값들 사이의 연산을 다룬다."
   ]
  },
  {
   "cell_type": "code",
   "execution_count": null,
   "id": "ca7ad136",
   "metadata": {},
   "outputs": [],
   "source": [
    "n = int(input())\n",
    "print(bool(n))"
   ]
  },
  {
   "cell_type": "markdown",
   "id": "d2e60af8",
   "metadata": {},
   "source": [
    "본 문제는 python 의 빠른 기초 학습을 위해 설계된 문제로서 python 코드 제출을 기준으로 설명되어 있습니다. \n",
    "------\n",
    "\n",
    "정수값이 입력될 때,\n",
    "그 불 값을 반대로 출력하는 프로그램을 작성해보자.\n",
    "\n",
    "예시\n",
    "a = bool(int(input()))\n",
    "print(not a)\n",
    "\n",
    "참고\n",
    "a = bool(int(input()))\n",
    "와 같은 형태로 겹쳐 작성하면, 한 번에 한 단계씩 계산/처리/평가된다.\n",
    "위와 같은 명령문의 경우 input( ), int( ), bool( ) 순서로 한 번에 한 단계씩 계산/처리/평가된다.\n",
    "\n",
    "어떤 불 값이나 변수에 not True, not False, not a 와 같은 계산이 가능하다.\n",
    "\n",
    "참 또는 거짓의 논리값을 역(반대)으로 바꾸기 위해서 not 예약어(reserved word, keyword)를 사용할 수 있다.\n",
    "\n",
    "이러한 논리연산을 NOT 연산(boolean NOT)이라고도 부르고,\n",
    "프라임 '(문자 오른쪽 위에 작은 따옴표), 바(기호 위에 가로 막대), 문자 오른쪽 위에 c(여집합, complement) 등으로 표시한다.\n",
    "모두 같은 의미이다.\n",
    "\n",
    "참, 거짓의 논리값 인 불(boolean) 값을 다루어주는 예약어는 not, and, or 이 있고,\n",
    "불 값들 사이의 논리(not, and, or) 연산 결과도 마찬가지로 True 또는 False 의 불 값으로 계산 된다.\n",
    "\n",
    "정수값 0은 False 이고, 나머지 정수 값들은 True 로 평가된다.\n",
    "빈 문자열 \"\" 나 ''는 False 이고, 나머지 문자열들은 True 로 평가된다.\n",
    "\n",
    "** 불 대수(boolean algebra)는 수학자 불이 만들어낸 것으로 True(참)/False(거짓) 값만 가지는 논리값과 그 값들 사이의 연산을 다룬다."
   ]
  },
  {
   "cell_type": "code",
   "execution_count": null,
   "id": "33af9064",
   "metadata": {},
   "outputs": [],
   "source": [
    "n = bool(int(input()))\n",
    "print(not n)"
   ]
  },
  {
   "cell_type": "markdown",
   "id": "91e1b296",
   "metadata": {},
   "source": [
    "본 문제는 python 의 빠른 기초 학습을 위해 설계된 문제로서 python 코드 제출을 기준으로 설명되어 있습니다. \n",
    "------\n",
    "\n",
    "2개의 정수값이 입력될 때,\n",
    "그 불 값이 모두 True 일 때에만 True 를 출력하는 프로그램을 작성해보자.\n",
    "\n",
    "예시\n",
    "a, b = input().split()\n",
    "print(bool(int(a)) and bool(int(b)))\n",
    "\n",
    "참고\n",
    "and 예약어는 주어진 두 불 값이 모두 True 일 때에만 True 로 계산하고, 나머지 경우는 False 로 계산한다.\n",
    "이러한 논리연산을 AND 연산(boolean AND)이라고도 부르고, · 으로 표시하거나 생략하며, 집합 기호 ∩(교집합, intersection)로 표시하기도 한다. \n",
    "모두 같은 의미이다.\n",
    "\n",
    "참, 거짓의 논리값 인 불(boolean) 값을 다루어주는 예약어는 not, and, or 이 있고,\n",
    "불 값들 사이의 논리(not, and, or) 연산 결과도 마찬가지로 True 또는 False 의 불 값으로 계산된다.\n",
    "\n",
    "** 불 대수(boolean algebra)는 수학자 불이 만들어낸 것으로 True(참)/False(거짓) 값만 가지는 논리값과 그 값들 사이의 연산을 다룬다."
   ]
  },
  {
   "cell_type": "code",
   "execution_count": null,
   "id": "1bd973d6",
   "metadata": {},
   "outputs": [],
   "source": [
    "a,b = input().split()\n",
    "print(bool(int(a)) and bool(int(b)))"
   ]
  },
  {
   "cell_type": "markdown",
   "id": "b2faf562",
   "metadata": {},
   "source": [
    "본 문제는 python 의 빠른 기초 학습을 위해 설계된 문제로서 python 코드 제출을 기준으로 설명되어 있습니다. \n",
    "------\n",
    "\n",
    "2개의 정수값이 입력될 때,\n",
    "그 불 값이 하나라도 True 일 때에만 True 를 출력하는 프로그램을 작성해보자.\n",
    "\n",
    "참고\n",
    "or 예약어는 주어진 두 불 값 중에서 하나라도 True 이면 True 로 계산하고, 나머지 경우는 False 로 계산한다.\n",
    "이러한 논리연산을 OR 연산(boolean OR)이라고도 부르고, + 로 표시하거나, 집합 기호 ∪(합집합, union)로 표시하기도 한다.\n",
    "모두 같은 의미이다.\n",
    "\n",
    "참, 거짓의 논리값 인 불(boolean) 값을 다루어주는 예약어는 not, and, or 이 있고,\n",
    "불 값들 사이의 논리(not, and, or) 연산 결과도 마찬가지로 True 또는 False 의 불 값으로 계산된다.\n",
    "\n",
    "** 불 대수(boolean algebra)는 수학자 불이 만들어낸 것으로 True(참)/False(거짓) 값만 가지는 논리값과 그 값들 사이의 연산을 다룬다."
   ]
  },
  {
   "cell_type": "code",
   "execution_count": null,
   "id": "7f102435",
   "metadata": {},
   "outputs": [],
   "source": [
    "a,b =input().split()\n",
    "print(bool(int (a)) or bool(int(b)))"
   ]
  },
  {
   "cell_type": "markdown",
   "id": "ea527e63",
   "metadata": {},
   "source": [
    "본 문제는 python 의 빠른 기초 학습을 위해 설계된 문제로서 python 코드 제출을 기준으로 설명되어 있습니다. \n",
    "------\n",
    "\n",
    "2개의 정수값이 입력될 때,\n",
    "그 불 값(True/False) 이 서로 다를 때에만 True 를 출력하는 프로그램을 작성해보자.\n",
    "\n",
    "예시\n",
    "...\n",
    "c = bool(int(a))\n",
    "d = bool(int(b))\n",
    "print((c and (not d)) or ((not c) and d))\n",
    "\n",
    "참고\n",
    "참 거짓이 서로 다를 때에만 True 로 계산하는 논리연산을 XOR(exclusive or, 배타적 논리합) 연산이라고도 부른다.\n",
    "\n",
    "논리연산자는 사칙(+, -, *, /) 연산자와 마찬가지로 여러 번 중복해서 사용할 수 있는데, \n",
    "사칙 연산자와 마찬가지로 계산 순서를 표시하기 위해 괄호 ( )를 사용할 수 있다.\n",
    "괄호를 사용하면 계산 순서를 명확하게 표현할 수 있다.\n",
    "\n",
    "수학 식에서는 소괄호 (), 중괄호 {}, 대괄호 []를 사용하기도 하지만, 프로그래밍언어에서는 소괄호 ( ) 만 사용한다.\n",
    "\n",
    "** 불 대수(boolean algebra)는 수학자 불이 만들어낸 것으로 True(참)/False(거짓) 값만 가지는 논리값과 그 값들 사이의 연산을 다룬다."
   ]
  },
  {
   "cell_type": "code",
   "execution_count": null,
   "id": "593fbdfe",
   "metadata": {},
   "outputs": [],
   "source": [
    "a,b = input().split()\n",
    "a = bool(int(a))\n",
    "b = bool(int(b))\n",
    "print((a and (not b)) or ((not a) and b))"
   ]
  },
  {
   "cell_type": "markdown",
   "id": "be72fa1f",
   "metadata": {},
   "source": [
    "본 문제는 python 의 빠른 기초 학습을 위해 설계된 문제로서 python 코드 제출을 기준으로 설명되어 있습니다. \n",
    "------\n",
    "\n",
    "2개의 정수값이 입력될 때,\n",
    "그 불 값(True/False) 이 서로 같을 때에만 True 를 출력하는 프로그램을 작성해보자."
   ]
  },
  {
   "cell_type": "code",
   "execution_count": null,
   "id": "67e56a6e",
   "metadata": {},
   "outputs": [],
   "source": [
    "a,b = input().split()\n",
    "print(bool(int(a)) == bool(int(b)))"
   ]
  },
  {
   "cell_type": "code",
   "execution_count": null,
   "id": "7ad71627",
   "metadata": {},
   "outputs": [],
   "source": []
  }
 ],
 "metadata": {
  "kernelspec": {
   "display_name": "Python 3 (ipykernel)",
   "language": "python",
   "name": "python3"
  },
  "language_info": {
   "codemirror_mode": {
    "name": "ipython",
    "version": 3
   },
   "file_extension": ".py",
   "mimetype": "text/x-python",
   "name": "python",
   "nbconvert_exporter": "python",
   "pygments_lexer": "ipython3",
   "version": "3.9.7"
  }
 },
 "nbformat": 4,
 "nbformat_minor": 5
}
