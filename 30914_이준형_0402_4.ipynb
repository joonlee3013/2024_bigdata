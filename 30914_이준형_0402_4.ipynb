{
 "cells": [
  {
   "cell_type": "markdown",
   "id": "1a56784d",
   "metadata": {},
   "source": [
    "##  30914_이준형_0402_4"
   ]
  },
  {
   "cell_type": "code",
   "execution_count": 16,
   "id": "bd29f10d",
   "metadata": {},
   "outputs": [
    {
     "name": "stdout",
     "output_type": "stream",
     "text": [
      "(4, 7, 5.6, 2, 3.14, 1)의 최댓값은 7입니다.\n",
      " string의 최댓값은 7입니다.\n",
      "['DTS', 'AAC', 'FLAC']의 최댓값은 7입니다.\n"
     ]
    }
   ],
   "source": [
    "from typing import Any, Sequence\n",
    "\n",
    "def max_of(a: Sequence) -> Any:\n",
    "    maximum = a[0]\n",
    "    for i in range(1, len(a)):\n",
    "        if  a[i] > maximum:\n",
    "            maximum = a[i]\n",
    "    return maximum\n",
    "\n",
    "t = (4,7,5.6, 2, 3.14, 1)\n",
    "s = ' string'\n",
    "a = ['DTS', 'AAC', 'FLAC']\n",
    "\n",
    "print (f'{t}의 최댓값은 {max_of(t)}입니다.')\n",
    "print (f'{s}의 최댓값은 {max_of(t)}입니다.')\n",
    "print (f'{a}의 최댓값은 {max_of(t)}입니다.')"
   ]
  },
  {
   "cell_type": "code",
   "execution_count": 17,
   "id": "bb8936c7",
   "metadata": {},
   "outputs": [
    {
     "name": "stdout",
     "output_type": "stream",
     "text": [
      "배열 원소를 역순으로 정렬합니다.\n",
      "원소 수를 입력하세요.: 7\n",
      "x[0] : 2\n",
      "x[1] : 5\n",
      "x[2] : 1\n",
      "x[3] : 3\n",
      "x[4] : 9\n",
      "x[5] : 6\n",
      "x[6] : 7\n",
      "배열 원소를 역순으로 정렬합니다.\n",
      "x[0] = 7\n",
      "x[1] = 6\n",
      "x[2] = 9\n",
      "x[3] = 3\n",
      "x[4] = 1\n",
      "x[5] = 5\n",
      "x[6] = 2\n"
     ]
    }
   ],
   "source": [
    "from typing import Any, MutableSequence\n",
    "\n",
    "def reverse_array(a: MutableSequence) -> None:\n",
    "    \"\"\"뮤터블 시퀀스형 a의 원소를 역순으로 정렬\"\"\"\n",
    "    n = len(a)\n",
    "    for i in range(n // 2):\n",
    "                   a[i], a[n - i - 1] = a[n - i - 1], a[i]\n",
    "            \n",
    "if __name__ == '__main__':\n",
    "    print('배열 원소를 역순으로 정렬합니다.')\n",
    "    nx = int(input('원소 수를 입력하세요.: '))\n",
    "    x = [None] * nx \n",
    "                \n",
    "    for i in range(nx):\n",
    "        x[i] = int(input(f'x[{i}] : '))\n",
    "                    \n",
    "    reverse_array(x)\n",
    "                \n",
    "    print('배열 원소를 역순으로 정렬합니다.')\n",
    "    for i in range(nx):\n",
    "        print(f'x[{i}] = {x[i]}')"
   ]
  },
  {
   "cell_type": "code",
   "execution_count": null,
   "id": "29749051",
   "metadata": {},
   "outputs": [],
   "source": []
  }
 ],
 "metadata": {
  "kernelspec": {
   "display_name": "Python 3 (ipykernel)",
   "language": "python",
   "name": "python3"
  },
  "language_info": {
   "codemirror_mode": {
    "name": "ipython",
    "version": 3
   },
   "file_extension": ".py",
   "mimetype": "text/x-python",
   "name": "python",
   "nbconvert_exporter": "python",
   "pygments_lexer": "ipython3",
   "version": "3.10.9"
  }
 },
 "nbformat": 4,
 "nbformat_minor": 5
}
