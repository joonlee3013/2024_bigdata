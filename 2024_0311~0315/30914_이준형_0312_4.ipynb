{
 "cells": [
  {
   "cell_type": "markdown",
   "id": "fcdb8f3a",
   "metadata": {},
   "source": [
    "## 30914_이준형_0312_4"
   ]
  },
  {
   "cell_type": "markdown",
   "id": "af4ad112",
   "metadata": {},
   "source": [
    "## 2.3 데이터를 넣는 입력 명령어\n",
    "#### 2.3.2 입력 명령어 input()"
   ]
  },
  {
   "cell_type": "code",
   "execution_count": 4,
   "id": "a9df2710",
   "metadata": {},
   "outputs": [
    {
     "name": "stdout",
     "output_type": "stream",
     "text": [
      "성일\n"
     ]
    },
    {
     "data": {
      "text/plain": [
       "'성일'"
      ]
     },
     "execution_count": 4,
     "metadata": {},
     "output_type": "execute_result"
    }
   ],
   "source": [
    "input()"
   ]
  },
  {
   "cell_type": "code",
   "execution_count": 5,
   "id": "f7f0a9d6",
   "metadata": {},
   "outputs": [
    {
     "name": "stdout",
     "output_type": "stream",
     "text": [
      "이름이준형\n"
     ]
    },
    {
     "data": {
      "text/plain": [
       "'이준형'"
      ]
     },
     "execution_count": 5,
     "metadata": {},
     "output_type": "execute_result"
    }
   ],
   "source": [
    "input(\"이름\")"
   ]
  },
  {
   "cell_type": "code",
   "execution_count": 6,
   "id": "1e3daf9d",
   "metadata": {},
   "outputs": [
    {
     "name": "stdout",
     "output_type": "stream",
     "text": [
      "아이디 :joonlee3013\n",
      "비밀번호 :jjjjjjjjjjjjjjj\n"
     ]
    },
    {
     "data": {
      "text/plain": [
       "'jjjjjjjjjjjjjjj'"
      ]
     },
     "execution_count": 6,
     "metadata": {},
     "output_type": "execute_result"
    }
   ],
   "source": [
    "input('아이디 :')\n",
    "input('비밀번호 :')"
   ]
  },
  {
   "cell_type": "code",
   "execution_count": 8,
   "id": "797aa737",
   "metadata": {},
   "outputs": [
    {
     "name": "stdout",
     "output_type": "stream",
     "text": [
      "학번을 입력하세요 --->30914\n"
     ]
    },
    {
     "data": {
      "text/plain": [
       "'30914'"
      ]
     },
     "execution_count": 8,
     "metadata": {},
     "output_type": "execute_result"
    }
   ],
   "source": [
    "input('학번을 입력하세요 --->')"
   ]
  },
  {
   "cell_type": "code",
   "execution_count": 10,
   "id": "c86fda61",
   "metadata": {},
   "outputs": [
    {
     "name": "stdout",
     "output_type": "stream",
     "text": [
      "___회원가입___네\n",
      "아이디: github\n",
      "가입을 환영합니다! \n"
     ]
    }
   ],
   "source": [
    "input('___회원가입___')\n",
    "input('아이디: ')\n",
    "print('가입을 환영합니다! ')"
   ]
  },
  {
   "cell_type": "code",
   "execution_count": 12,
   "id": "66348150",
   "metadata": {},
   "outputs": [
    {
     "name": "stdout",
     "output_type": "stream",
     "text": [
      "출력해 봅시다\n",
      "닉네임을 입력해주세요-->졔졔\n",
      "졔졔님 안녕하세요\n"
     ]
    }
   ],
   "source": [
    "input('출력해 봅시다')\n",
    "input('닉네임을 입력해주세요-->')\n",
    "print('졔졔님 안녕하세요')"
   ]
  },
  {
   "cell_type": "code",
   "execution_count": null,
   "id": "d7252fcb",
   "metadata": {},
   "outputs": [],
   "source": []
  }
 ],
 "metadata": {
  "kernelspec": {
   "display_name": "Python 3 (ipykernel)",
   "language": "python",
   "name": "python3"
  },
  "language_info": {
   "codemirror_mode": {
    "name": "ipython",
    "version": 3
   },
   "file_extension": ".py",
   "mimetype": "text/x-python",
   "name": "python",
   "nbconvert_exporter": "python",
   "pygments_lexer": "ipython3",
   "version": "3.9.7"
  }
 },
 "nbformat": 4,
 "nbformat_minor": 5
}
